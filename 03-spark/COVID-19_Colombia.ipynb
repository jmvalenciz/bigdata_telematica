{
 "cells": [
  {
   "cell_type": "code",
   "execution_count": 1,
   "metadata": {},
   "outputs": [
    {
     "data": {
      "application/vnd.jupyter.widget-view+json": {
       "model_id": "7ab43de21a674102a55b3c3b071e7227",
       "version_major": 2,
       "version_minor": 0
      },
      "text/plain": [
       "VBox()"
      ]
     },
     "metadata": {},
     "output_type": "display_data"
    },
    {
     "name": "stdout",
     "output_type": "stream",
     "text": [
      "Starting Spark application\n"
     ]
    },
    {
     "data": {
      "text/html": [
       "<table>\n",
       "<tr><th>ID</th><th>YARN Application ID</th><th>Kind</th><th>State</th><th>Spark UI</th><th>Driver log</th><th>Current session?</th></tr><tr><td>0</td><td>application_1606694223806_0002</td><td>pyspark</td><td>idle</td><td><a target=\"_blank\" href=\"http://ip-172-31-19-105.ec2.internal:20888/proxy/application_1606694223806_0002/\">Link</a></td><td><a target=\"_blank\" href=\"http://ip-172-31-31-153.ec2.internal:8042/node/containerlogs/container_1606694223806_0002_01_000001/livy\">Link</a></td><td>✔</td></tr></table>"
      ],
      "text/plain": [
       "<IPython.core.display.HTML object>"
      ]
     },
     "metadata": {},
     "output_type": "display_data"
    },
    {
     "data": {
      "application/vnd.jupyter.widget-view+json": {
       "model_id": "",
       "version_major": 2,
       "version_minor": 0
      },
      "text/plain": [
       "FloatProgress(value=0.0, bar_style='info', description='Progress:', layout=Layout(height='25px', width='50%'),…"
      ]
     },
     "metadata": {},
     "output_type": "display_data"
    },
    {
     "name": "stdout",
     "output_type": "stream",
     "text": [
      "SparkSession available as 'spark'.\n"
     ]
    },
    {
     "data": {
      "application/vnd.jupyter.widget-view+json": {
       "model_id": "",
       "version_major": 2,
       "version_minor": 0
      },
      "text/plain": [
       "FloatProgress(value=0.0, bar_style='info', description='Progress:', layout=Layout(height='25px', width='50%'),…"
      ]
     },
     "metadata": {},
     "output_type": "display_data"
    }
   ],
   "source": [
    "from pyspark.sql import SparkSession"
   ]
  },
  {
   "cell_type": "code",
   "execution_count": 2,
   "metadata": {},
   "outputs": [
    {
     "data": {
      "application/vnd.jupyter.widget-view+json": {
       "model_id": "d4c21fa90a7e44f8ad02078ecc93a9b0",
       "version_major": 2,
       "version_minor": 0
      },
      "text/plain": [
       "VBox()"
      ]
     },
     "metadata": {},
     "output_type": "display_data"
    },
    {
     "data": {
      "application/vnd.jupyter.widget-view+json": {
       "model_id": "",
       "version_major": 2,
       "version_minor": 0
      },
      "text/plain": [
       "FloatProgress(value=0.0, bar_style='info', description='Progress:', layout=Layout(height='25px', width='50%'),…"
      ]
     },
     "metadata": {},
     "output_type": "display_data"
    }
   ],
   "source": [
    "spark=SparkSession.builder.appName('data_processing').getOrCreate()\n",
    "df=spark.read.csv('s3://jmvalenciz-bigdata-bucket/datasets/spark/Casos_positivos_de_COVID-19_en_Colombia.csv',inferSchema=True,header=True)"
   ]
  },
  {
   "cell_type": "code",
   "execution_count": 4,
   "metadata": {},
   "outputs": [
    {
     "data": {
      "application/vnd.jupyter.widget-view+json": {
       "model_id": "ac990658634749a2aef7c7c90a5d18c0",
       "version_major": 2,
       "version_minor": 0
      },
      "text/plain": [
       "VBox()"
      ]
     },
     "metadata": {},
     "output_type": "display_data"
    },
    {
     "data": {
      "application/vnd.jupyter.widget-view+json": {
       "model_id": "",
       "version_major": 2,
       "version_minor": 0
      },
      "text/plain": [
       "FloatProgress(value=0.0, bar_style='info', description='Progress:', layout=Layout(height='25px', width='50%'),…"
      ]
     },
     "metadata": {},
     "output_type": "display_data"
    },
    {
     "name": "stdout",
     "output_type": "stream",
     "text": [
      "['ID de caso', 'Fecha de notificación', 'Codigo DIVIPOLA', 'Ciudad de ubicación', 'Departamento o Distrito ', 'atención', 'Edad', 'Sexo', 'Tipo', 'Estado', 'País de procedencia', 'FIS', 'Fecha de muerte', 'Fecha diagnostico', 'Fecha recuperado', 'fecha reporte web']"
     ]
    }
   ],
   "source": [
    "# Columnas\n",
    "df.columns"
   ]
  },
  {
   "cell_type": "code",
   "execution_count": 5,
   "metadata": {},
   "outputs": [
    {
     "data": {
      "application/vnd.jupyter.widget-view+json": {
       "model_id": "68054fb3c358491ca1e97b11566a1554",
       "version_major": 2,
       "version_minor": 0
      },
      "text/plain": [
       "VBox()"
      ]
     },
     "metadata": {},
     "output_type": "display_data"
    },
    {
     "data": {
      "application/vnd.jupyter.widget-view+json": {
       "model_id": "",
       "version_major": 2,
       "version_minor": 0
      },
      "text/plain": [
       "FloatProgress(value=0.0, bar_style='info', description='Progress:', layout=Layout(height='25px', width='50%'),…"
      ]
     },
     "metadata": {},
     "output_type": "display_data"
    },
    {
     "name": "stdout",
     "output_type": "stream",
     "text": [
      "6211"
     ]
    }
   ],
   "source": [
    "# Número de filas\n",
    "df.count()"
   ]
  },
  {
   "cell_type": "code",
   "execution_count": 6,
   "metadata": {},
   "outputs": [
    {
     "data": {
      "application/vnd.jupyter.widget-view+json": {
       "model_id": "05620bb3017b4ead81a5212c4228047e",
       "version_major": 2,
       "version_minor": 0
      },
      "text/plain": [
       "VBox()"
      ]
     },
     "metadata": {},
     "output_type": "display_data"
    },
    {
     "data": {
      "application/vnd.jupyter.widget-view+json": {
       "model_id": "",
       "version_major": 2,
       "version_minor": 0
      },
      "text/plain": [
       "FloatProgress(value=0.0, bar_style='info', description='Progress:', layout=Layout(height='25px', width='50%'),…"
      ]
     },
     "metadata": {},
     "output_type": "display_data"
    },
    {
     "name": "stdout",
     "output_type": "stream",
     "text": [
      "root\n",
      " |-- ID de caso: integer (nullable = true)\n",
      " |-- Fecha de notificación: timestamp (nullable = true)\n",
      " |-- Codigo DIVIPOLA: integer (nullable = true)\n",
      " |-- Ciudad de ubicación: string (nullable = true)\n",
      " |-- Departamento o Distrito : string (nullable = true)\n",
      " |-- atención: string (nullable = true)\n",
      " |-- Edad: integer (nullable = true)\n",
      " |-- Sexo: string (nullable = true)\n",
      " |-- Tipo: string (nullable = true)\n",
      " |-- Estado: string (nullable = true)\n",
      " |-- País de procedencia: string (nullable = true)\n",
      " |-- FIS: string (nullable = true)\n",
      " |-- Fecha de muerte: string (nullable = true)\n",
      " |-- Fecha diagnostico: timestamp (nullable = true)\n",
      " |-- Fecha recuperado: string (nullable = true)\n",
      " |-- fecha reporte web: timestamp (nullable = true)"
     ]
    }
   ],
   "source": [
    "# Schema\n",
    "df.printSchema()"
   ]
  },
  {
   "cell_type": "code",
   "execution_count": 7,
   "metadata": {},
   "outputs": [
    {
     "data": {
      "application/vnd.jupyter.widget-view+json": {
       "model_id": "5cca0703a7844ae593b4e3f0048bb5a9",
       "version_major": 2,
       "version_minor": 0
      },
      "text/plain": [
       "VBox()"
      ]
     },
     "metadata": {},
     "output_type": "display_data"
    },
    {
     "data": {
      "application/vnd.jupyter.widget-view+json": {
       "model_id": "",
       "version_major": 2,
       "version_minor": 0
      },
      "text/plain": [
       "FloatProgress(value=0.0, bar_style='info', description='Progress:', layout=Layout(height='25px', width='50%'),…"
      ]
     },
     "metadata": {},
     "output_type": "display_data"
    },
    {
     "name": "stdout",
     "output_type": "stream",
     "text": [
      "+-------+------------------+------------------+-------------------+------------------------+--------+------------------+----+-----------+---------+-------------------+--------------------+--------------------+--------------------+\n",
      "|summary|        ID de caso|   Codigo DIVIPOLA|Ciudad de ubicación|Departamento o Distrito |atención|              Edad|Sexo|       Tipo|   Estado|País de procedencia|                 FIS|     Fecha de muerte|    Fecha recuperado|\n",
      "+-------+------------------+------------------+-------------------+------------------------+--------+------------------+----+-----------+---------+-------------------+--------------------+--------------------+--------------------+\n",
      "|  count|              6211|              6211|               6211|                    6211|    6211|              6211|6211|       6211|     6211|               6211|                6211|                6211|                5952|\n",
      "|   mean|            3106.0|30742.691515053935|               null|                    null|    null| 41.23715987763645|null|       null|     null|               null|                null|                null|                null|\n",
      "| stddev|1793.1055927263922| 27326.15632510684|               null|                    null|    null|18.468991567406906|null|       null|     null|               null|                null|                null|                null|\n",
      "|    min|                 1|                25|            Acacías|                Amazonas|    Casa|                 1|   F| En Estudio|Fallecido|           Alemania|2020-02-27T00:00:...|               -   -|               -   -|\n",
      "|    max|              6211|             91001|      Zona Bananera|         Valle del Cauca|    casa|               103|   m|relacionado|     leve|          Venezuela|        Asintomático|2020-04-29T00:00:...|2020-04-27T23:59:...|\n",
      "+-------+------------------+------------------+-------------------+------------------------+--------+------------------+----+-----------+---------+-------------------+--------------------+--------------------+--------------------+"
     ]
    }
   ],
   "source": [
    "# Descripción del dataframe\n",
    "# Resultado en el archivo COVID_19_Statistics.txt\n",
    "df.describe().show()"
   ]
  },
  {
   "cell_type": "code",
   "execution_count": 10,
   "metadata": {},
   "outputs": [
    {
     "data": {
      "application/vnd.jupyter.widget-view+json": {
       "model_id": "2b6adfa66cce4deebb0bb6b63a758a94",
       "version_major": 2,
       "version_minor": 0
      },
      "text/plain": [
       "VBox()"
      ]
     },
     "metadata": {},
     "output_type": "display_data"
    },
    {
     "data": {
      "application/vnd.jupyter.widget-view+json": {
       "model_id": "",
       "version_major": 2,
       "version_minor": 0
      },
      "text/plain": [
       "FloatProgress(value=0.0, bar_style='info', description='Progress:', layout=Layout(height='25px', width='50%'),…"
      ]
     },
     "metadata": {},
     "output_type": "display_data"
    },
    {
     "name": "stdout",
     "output_type": "stream",
     "text": [
      "+----------+---------------------+---------------+-------------------+------------------------+----------+----+-----------+------+--------------------+--------------------+---------------+-------------------+--------------------+-------------------+\n",
      "|ID de caso|Fecha de notificación|Codigo DIVIPOLA|Ciudad de ubicación|Departamento o Distrito |  atención|Edad|       Tipo|Estado| País de procedencia|                 FIS|Fecha de muerte|  Fecha diagnostico|    Fecha recuperado|  fecha reporte web|\n",
      "+----------+---------------------+---------------+-------------------+------------------------+----------+----+-----------+------+--------------------+--------------------+---------------+-------------------+--------------------+-------------------+\n",
      "|         1|  2020-03-02 00:00:00|          11001|        Bogotá D.C.|             Bogotá D.C.|Recuperado|  19|  Importado|  Leve|              Italia|2020-02-27T00:00:...|          -   -|2020-03-06 00:00:00|2020-03-13T00:00:...|2020-03-06 00:00:00|\n",
      "|         2|  2020-03-06 00:00:00|          76111|Guadalajara de Buga|         Valle del Cauca|Recuperado|  34|  Importado|  Leve|              España|2020-03-04T00:00:...|          -   -|2020-03-09 00:00:00|2020-03-19T00:00:...|2020-03-09 00:00:00|\n",
      "|         3|  2020-03-07 00:00:00|           5001|           Medellín|               Antioquia|Recuperado|  50|  Importado|  Leve|              España|2020-02-29T00:00:...|          -   -|2020-03-09 00:00:00|2020-03-15T00:00:...|2020-03-09 00:00:00|\n",
      "|         4|  2020-03-09 00:00:00|           5001|           Medellín|               Antioquia|Recuperado|  55|Relacionado|  Leve|            Colombia|2020-03-06T00:00:...|          -   -|2020-03-11 00:00:00|2020-03-26T00:00:...|2020-03-11 00:00:00|\n",
      "|         5|  2020-03-09 00:00:00|           5001|           Medellín|               Antioquia|Recuperado|  25|Relacionado|  Leve|            Colombia|2020-03-08T00:00:...|          -   -|2020-03-11 00:00:00|2020-03-23T00:00:...|2020-03-11 00:00:00|\n",
      "|         6|  2020-03-10 00:00:00|           5360|             Itagüí|               Antioquia|Recuperado|  27|Relacionado|  Leve|            Colombia|2020-03-06T00:00:...|          -   -|2020-03-11 00:00:00|2020-03-26T00:00:...|2020-03-11 00:00:00|\n",
      "|         7|  2020-03-08 00:00:00|          13001|Cartagena de Indias|     Cartagena D.T. y C.|Recuperado|  85|  Importado|  Leve|Estados Unidos de...|2020-03-02T00:00:...|          -   -|2020-03-11 00:00:00|2020-03-17T00:00:...|2020-03-11 00:00:00|\n",
      "|         8|  2020-03-09 00:00:00|          11001|        Bogotá D.C.|             Bogotá D.C.|Recuperado|  22|  Importado|  Leve|              España|2020-03-06T00:00:...|          -   -|2020-03-11 00:00:00|2020-03-21T00:00:...|2020-03-11 00:00:00|\n",
      "|         9|  2020-03-08 00:00:00|          11001|        Bogotá D.C.|             Bogotá D.C.|Recuperado|  28|  Importado|  Leve|              España|2020-03-07T00:00:...|          -   -|2020-03-11 00:00:00|2020-03-23T00:00:...|2020-03-11 00:00:00|\n",
      "|        10|  2020-03-12 00:00:00|          11001|        Bogotá D.C.|             Bogotá D.C.|Recuperado|  36|  Importado|  Leve|              España|2020-03-06T00:00:...|          -   -|2020-03-12 00:00:00|2020-03-21T00:00:...|2020-03-12 00:00:00|\n",
      "+----------+---------------------+---------------+-------------------+------------------------+----------+----+-----------+------+--------------------+--------------------+---------------+-------------------+--------------------+-------------------+\n",
      "only showing top 10 rows"
     ]
    }
   ],
   "source": [
    "# Eliminar columna Sexo\n",
    "df.drop('Sexo').show(10)"
   ]
  },
  {
   "cell_type": "code",
   "execution_count": 14,
   "metadata": {},
   "outputs": [
    {
     "data": {
      "application/vnd.jupyter.widget-view+json": {
       "model_id": "41565bba0a0b4f8dba108c2b9ba6a7c6",
       "version_major": 2,
       "version_minor": 0
      },
      "text/plain": [
       "VBox()"
      ]
     },
     "metadata": {},
     "output_type": "display_data"
    },
    {
     "data": {
      "application/vnd.jupyter.widget-view+json": {
       "model_id": "",
       "version_major": 2,
       "version_minor": 0
      },
      "text/plain": [
       "FloatProgress(value=0.0, bar_style='info', description='Progress:', layout=Layout(height='25px', width='50%'),…"
      ]
     },
     "metadata": {},
     "output_type": "display_data"
    },
    {
     "name": "stdout",
     "output_type": "stream",
     "text": [
      "+----------+---------------------+---------------+-------------------+------------------------+----------+----+----+-----------+------+-------------------------+-----------------------+---------------+-------------------+-----------------------+-------------------+-----------+\n",
      "|ID de caso|Fecha de notificación|Codigo DIVIPOLA|Ciudad de ubicación|Departamento o Distrito |atención  |Edad|Sexo|Tipo       |Estado|País de procedencia      |FIS                    |Fecha de muerte|Fecha diagnostico  |Fecha recuperado       |fecha reporte web  |NivelRiesgo|\n",
      "+----------+---------------------+---------------+-------------------+------------------------+----------+----+----+-----------+------+-------------------------+-----------------------+---------------+-------------------+-----------------------+-------------------+-----------+\n",
      "|1         |2020-03-02 00:00:00  |11001          |Bogotá D.C.        |Bogotá D.C.             |Recuperado|19  |F   |Importado  |Leve  |Italia                   |2020-02-27T00:00:00.000|-   -          |2020-03-06 00:00:00|2020-03-13T00:00:00.000|2020-03-06 00:00:00|1          |\n",
      "|2         |2020-03-06 00:00:00  |76111          |Guadalajara de Buga|Valle del Cauca         |Recuperado|34  |M   |Importado  |Leve  |España                   |2020-03-04T00:00:00.000|-   -          |2020-03-09 00:00:00|2020-03-19T00:00:00.000|2020-03-09 00:00:00|4          |\n",
      "|3         |2020-03-07 00:00:00  |5001           |Medellín           |Antioquia               |Recuperado|50  |F   |Importado  |Leve  |España                   |2020-02-29T00:00:00.000|-   -          |2020-03-09 00:00:00|2020-03-15T00:00:00.000|2020-03-09 00:00:00|30         |\n",
      "|4         |2020-03-09 00:00:00  |5001           |Medellín           |Antioquia               |Recuperado|55  |M   |Relacionado|Leve  |Colombia                 |2020-03-06T00:00:00.000|-   -          |2020-03-11 00:00:00|2020-03-26T00:00:00.000|2020-03-11 00:00:00|30         |\n",
      "|5         |2020-03-09 00:00:00  |5001           |Medellín           |Antioquia               |Recuperado|25  |M   |Relacionado|Leve  |Colombia                 |2020-03-08T00:00:00.000|-   -          |2020-03-11 00:00:00|2020-03-23T00:00:00.000|2020-03-11 00:00:00|1          |\n",
      "|6         |2020-03-10 00:00:00  |5360           |Itagüí             |Antioquia               |Recuperado|27  |F   |Relacionado|Leve  |Colombia                 |2020-03-06T00:00:00.000|-   -          |2020-03-11 00:00:00|2020-03-26T00:00:00.000|2020-03-11 00:00:00|1          |\n",
      "|7         |2020-03-08 00:00:00  |13001          |Cartagena de Indias|Cartagena D.T. y C.     |Recuperado|85  |F   |Importado  |Leve  |Estados Unidos de América|2020-03-02T00:00:00.000|-   -          |2020-03-11 00:00:00|2020-03-17T00:00:00.000|2020-03-11 00:00:00|630        |\n",
      "|8         |2020-03-09 00:00:00  |11001          |Bogotá D.C.        |Bogotá D.C.             |Recuperado|22  |F   |Importado  |Leve  |España                   |2020-03-06T00:00:00.000|-   -          |2020-03-11 00:00:00|2020-03-21T00:00:00.000|2020-03-11 00:00:00|1          |\n",
      "|9         |2020-03-08 00:00:00  |11001          |Bogotá D.C.        |Bogotá D.C.             |Recuperado|28  |F   |Importado  |Leve  |España                   |2020-03-07T00:00:00.000|-   -          |2020-03-11 00:00:00|2020-03-23T00:00:00.000|2020-03-11 00:00:00|1          |\n",
      "|10        |2020-03-12 00:00:00  |11001          |Bogotá D.C.        |Bogotá D.C.             |Recuperado|36  |F   |Importado  |Leve  |España                   |2020-03-06T00:00:00.000|-   -          |2020-03-12 00:00:00|2020-03-21T00:00:00.000|2020-03-12 00:00:00|4          |\n",
      "+----------+---------------------+---------------+-------------------+------------------------+----------+----+----+-----------+------+-------------------------+-----------------------+---------------+-------------------+-----------------------+-------------------+-----------+\n",
      "only showing top 10 rows"
     ]
    }
   ],
   "source": [
    "# agregar columna NivelRiesgo\n",
    "# datos tomados de https://espanol.cdc.gov/coronavirus/2019-ncov/need-extra-precautions/older-adults.html\n",
    "from pyspark.sql.functions import udf\n",
    "from pyspark.sql.types import IntegerType\n",
    "\n",
    "def nivelRiesgo(edad):\n",
    "    if(edad <= 29):\n",
    "        return 1\n",
    "    elif(edad <= 39):\n",
    "        return 4\n",
    "    elif(edad <= 49):\n",
    "        return 10\n",
    "    elif(edad<= 64):\n",
    "        return 30\n",
    "    elif(edad<=74):\n",
    "        return 90\n",
    "    elif(edad<=84):\n",
    "        return 220\n",
    "    else:\n",
    "        return 630\n",
    "    \n",
    "nivelRiesgo_udf=udf(nivelRiesgo,IntegerType())\n",
    "\n",
    "df.withColumn('NivelRiesgo',nivelRiesgo_udf(df['Edad'])).show(10,False)"
   ]
  },
  {
   "cell_type": "code",
   "execution_count": 54,
   "metadata": {},
   "outputs": [
    {
     "data": {
      "application/vnd.jupyter.widget-view+json": {
       "model_id": "1f752dc5bdc84f5a8c54f303407f0bc0",
       "version_major": 2,
       "version_minor": 0
      },
      "text/plain": [
       "VBox()"
      ]
     },
     "metadata": {},
     "output_type": "display_data"
    },
    {
     "data": {
      "application/vnd.jupyter.widget-view+json": {
       "model_id": "",
       "version_major": 2,
       "version_minor": 0
      },
      "text/plain": [
       "FloatProgress(value=0.0, bar_style='info', description='Progress:', layout=Layout(height='25px', width='50%'),…"
      ]
     },
     "metadata": {},
     "output_type": "display_data"
    },
    {
     "name": "stdout",
     "output_type": "stream",
     "text": [
      "+----+\n",
      "|Sexo|\n",
      "+----+\n",
      "|   M|\n",
      "|   f|\n",
      "|   F|\n",
      "|   m|\n",
      "+----+\n",
      "\n",
      "+----+\n",
      "|Sexo|\n",
      "+----+\n",
      "|   M|\n",
      "|   F|\n",
      "+----+"
     ]
    }
   ],
   "source": [
    "# Algunos elementos de la columna \"Sexo\" están en minúscula por lo que esta\n",
    "# parte corrige esto para que todo este en mayúscula\n",
    "from pyspark.sql.types import StringType\n",
    "\n",
    "def SexoToUppercase(str):\n",
    "    if(str == \"f\"):\n",
    "        return \"F\"\n",
    "    elif(str == \"m\"):\n",
    "        return \"M\"\n",
    "    else:\n",
    "        return str\n",
    "\n",
    "SexoToUppercase_udf =udf(SexoToUppercase,StringType())\n",
    "\n",
    "# CASOS\n",
    "df.select(\"Sexo\").distinct().show(10)\n",
    "\n",
    "df.withColumn(\"Sexo\",SexoToUppercase_udf(df['Sexo'])).select(\"Sexo\").distinct().show(10)"
   ]
  },
  {
   "cell_type": "code",
   "execution_count": 55,
   "metadata": {},
   "outputs": [
    {
     "data": {
      "application/vnd.jupyter.widget-view+json": {
       "model_id": "0025de60c2404f9cb99255a44d567a5f",
       "version_major": 2,
       "version_minor": 0
      },
      "text/plain": [
       "VBox()"
      ]
     },
     "metadata": {},
     "output_type": "display_data"
    },
    {
     "data": {
      "application/vnd.jupyter.widget-view+json": {
       "model_id": "",
       "version_major": 2,
       "version_minor": 0
      },
      "text/plain": [
       "FloatProgress(value=0.0, bar_style='info', description='Progress:', layout=Layout(height='25px', width='50%'),…"
      ]
     },
     "metadata": {},
     "output_type": "display_data"
    },
    {
     "name": "stdout",
     "output_type": "stream",
     "text": [
      "+---------+\n",
      "|   Estado|\n",
      "+---------+\n",
      "|     Leve|\n",
      "|    Grave|\n",
      "|Fallecido|\n",
      "| Moderado|\n",
      "|      N/A|\n",
      "|     leve|\n",
      "+---------+\n",
      "\n",
      "+------+\n",
      "|Estado|\n",
      "+------+\n",
      "|     3|\n",
      "|     0|\n",
      "|     1|\n",
      "|    -1|\n",
      "|     2|\n",
      "+------+"
     ]
    }
   ],
   "source": [
    "# Transformación de tipo\n",
    "# El estado de un caso es de tipo string y se va a pasar a tipo entero\n",
    "\n",
    "@udf\n",
    "def EstadoToInt(estado):\n",
    "    if(estado == \"Leve\" or estado == \"leve\"):\n",
    "        return 1\n",
    "    elif(estado == \"Moderado\"):\n",
    "        return 2\n",
    "    elif(estado == \"Grave\"):\n",
    "        return 3\n",
    "    elif(estado == \"Fallecido\"):\n",
    "        return -1\n",
    "    elif(estado == \"N/A\"):\n",
    "        return 0\n",
    "    else:\n",
    "        return None\n",
    "\n",
    "# Posibles valores\n",
    "df.select(\"Estado\").distinct().show()\n",
    "\n",
    "df.withColumn(\"Estado\", EstadoToInt(df.Estado)).select(\"Estado\").distinct().show()"
   ]
  }
 ],
 "metadata": {
  "kernelspec": {
   "display_name": "PySpark",
   "language": "",
   "name": "pysparkkernel"
  },
  "language_info": {
   "codemirror_mode": {
    "name": "python",
    "version": 2
   },
   "mimetype": "text/x-python",
   "name": "pyspark",
   "pygments_lexer": "python2"
  }
 },
 "nbformat": 4,
 "nbformat_minor": 4
}
